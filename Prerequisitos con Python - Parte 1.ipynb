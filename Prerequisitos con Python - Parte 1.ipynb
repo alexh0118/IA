{
 "cells": [
  {
   "cell_type": "markdown",
   "metadata": {},
   "source": [
    "## Bienvenidos a prerequisitos con Python - Parte 1\n",
    "Aqui haremos un rápido contenido de python y lo necesario para ciencia de datos e inteligencia artificial.  Haremos todo lo posible por cubrir python desde cero hasta un nivel aceptable."
   ]
  },
  {
   "cell_type": "markdown",
   "metadata": {},
   "source": [
    "Antes de aprender python debe de saber algunas cosas.\n",
    "- Algunos lenguajes de programación son *case sensitive* y este es el caso de python, esto quiere decir que una variable declarada como *variable* y *Variable* son diferentes.\n",
    "- El espaciamiento es importante en python, use siempre el mismo espaciamiento cuando está identando código, por ejemplo utilizar \n",
    "- Los errores en programación no son malos y no te hacen mal programador, simplemente te ayudan a saber donde tienes un problema en tu código."
   ]
  },
  {
   "cell_type": "markdown",
   "metadata": {},
   "source": [
    "#### Operadores Aritméticos\n",
    "- (+) Adición\n",
    "- (-) Substracción\n",
    "- (*) Multiplicación\n",
    "- (/) división\n",
    "- (**) Exponenciación\n",
    "- (^) Bitwise XOR\n",
    "- (%) Modulo\n",
    "- (//) División de entero"
   ]
  },
  {
   "cell_type": "code",
   "execution_count": 24,
   "metadata": {},
   "outputs": [
    {
     "name": "stdout",
     "output_type": "stream",
     "text": [
      "5\n"
     ]
    }
   ],
   "source": [
    "# Suma\n",
    "print(3 + 2)"
   ]
  },
  {
   "cell_type": "code",
   "execution_count": 25,
   "metadata": {},
   "outputs": [
    {
     "name": "stdout",
     "output_type": "stream",
     "text": [
      "-5\n"
     ]
    }
   ],
   "source": [
    "# Resta\n",
    "print(4 - 9)"
   ]
  },
  {
   "cell_type": "code",
   "execution_count": 3,
   "metadata": {},
   "outputs": [
    {
     "name": "stdout",
     "output_type": "stream",
     "text": [
      "16.39\n"
     ]
    }
   ],
   "source": [
    "# Multiplicación \n",
    "print(2.2*7.45)"
   ]
  },
  {
   "cell_type": "code",
   "execution_count": 4,
   "metadata": {},
   "outputs": [
    {
     "data": {
      "text/plain": [
       "0.8"
      ]
     },
     "execution_count": 4,
     "metadata": {},
     "output_type": "execute_result"
    }
   ],
   "source": [
    "# División \n",
    "4/5"
   ]
  },
  {
   "cell_type": "code",
   "execution_count": 5,
   "metadata": {},
   "outputs": [
    {
     "data": {
      "text/plain": [
       "64"
      ]
     },
     "execution_count": 5,
     "metadata": {},
     "output_type": "execute_result"
    }
   ],
   "source": [
    "# Exponenciación\n",
    "4**3"
   ]
  },
  {
   "cell_type": "code",
   "execution_count": 6,
   "metadata": {},
   "outputs": [
    {
     "data": {
      "text/plain": [
       "(1, 3)"
      ]
     },
     "execution_count": 6,
     "metadata": {},
     "output_type": "execute_result"
    }
   ],
   "source": [
    "# Módulo\n",
    "3%2, -9%4 # Note que 9/4 es 2.25 pero si es negativo lo redonde a al entero más lejano"
   ]
  },
  {
   "cell_type": "code",
   "execution_count": 7,
   "metadata": {},
   "outputs": [
    {
     "data": {
      "text/plain": [
       "2"
      ]
     },
     "execution_count": 7,
     "metadata": {},
     "output_type": "execute_result"
    }
   ],
   "source": [
    "# División entera\n",
    "16//7"
   ]
  },
  {
   "cell_type": "code",
   "execution_count": 8,
   "metadata": {},
   "outputs": [
    {
     "data": {
      "text/plain": [
       "13"
      ]
     },
     "execution_count": 8,
     "metadata": {},
     "output_type": "execute_result"
    }
   ],
   "source": [
    "# El *caret* (^) solo se usa para operación binaria, \n",
    "# tenga cuidado cuando lo utiliza pues puede confundirse en resultados\n",
    "12^1\n",
    "#  1100 binario\n",
    "#  XOR\n",
    "#  0001 binario\n",
    "#--------\n",
    "#  1 1 0 1 binario\n",
    "#  13 decimal"
   ]
  },
  {
   "cell_type": "markdown",
   "metadata": {},
   "source": [
    "#### Enteros y Flotantes\n",
    "Como notamos anteriormente dividir un número entre otro cuando el divisor es mayor nos da punto flotante."
   ]
  },
  {
   "cell_type": "code",
   "execution_count": 9,
   "metadata": {},
   "outputs": [
    {
     "data": {
      "text/plain": [
       "0.75"
      ]
     },
     "execution_count": 9,
     "metadata": {},
     "output_type": "execute_result"
    }
   ],
   "source": [
    "3/4"
   ]
  },
  {
   "cell_type": "markdown",
   "metadata": {},
   "source": [
    "Tambien cabe destacar que aunque dividamos un número contra otro y de exacto el resultado siempre sigue siendo flotante"
   ]
  },
  {
   "cell_type": "code",
   "execution_count": 10,
   "metadata": {},
   "outputs": [
    {
     "data": {
      "text/plain": [
       "2.0"
      ]
     },
     "execution_count": 10,
     "metadata": {},
     "output_type": "execute_result"
    }
   ],
   "source": [
    "4/2"
   ]
  },
  {
   "cell_type": "markdown",
   "metadata": {},
   "source": [
    "Cualquier operación efectuada entre un número entero y un número flotante da como resultado un número flotante"
   ]
  },
  {
   "cell_type": "code",
   "execution_count": 11,
   "metadata": {},
   "outputs": [
    {
     "data": {
      "text/plain": [
       "2.5"
      ]
     },
     "execution_count": 11,
     "metadata": {},
     "output_type": "execute_result"
    }
   ],
   "source": [
    "2 + 0.5"
   ]
  },
  {
   "cell_type": "markdown",
   "metadata": {},
   "source": [
    "Todos los resultados en python tienen un tipo de datos (y en cualquier lenguaje de programación).  Por medio de la sentencia *type* puede encontrar el tipo de datos, esto ayuda un poco a depurar el programa en algunos casos."
   ]
  },
  {
   "cell_type": "code",
   "execution_count": 12,
   "metadata": {},
   "outputs": [
    {
     "data": {
      "text/plain": [
       "int"
      ]
     },
     "execution_count": 12,
     "metadata": {},
     "output_type": "execute_result"
    }
   ],
   "source": [
    "type(2)"
   ]
  },
  {
   "cell_type": "code",
   "execution_count": 13,
   "metadata": {},
   "outputs": [
    {
     "data": {
      "text/plain": [
       "float"
      ]
     },
     "execution_count": 13,
     "metadata": {},
     "output_type": "execute_result"
    }
   ],
   "source": [
    "type(4.2)"
   ]
  },
  {
   "cell_type": "markdown",
   "metadata": {},
   "source": [
    "Cuando convertimos un número flotante a un entero, la parte del *resto* es eliminada, debido a su conversión"
   ]
  },
  {
   "cell_type": "code",
   "execution_count": 14,
   "metadata": {},
   "outputs": [
    {
     "data": {
      "text/plain": [
       "20"
      ]
     },
     "execution_count": 14,
     "metadata": {},
     "output_type": "execute_result"
    }
   ],
   "source": [
    "int(20.2)"
   ]
  },
  {
   "cell_type": "markdown",
   "metadata": {},
   "source": [
    "Cuando convertimos de entero a flotante, se agrega un un punto flotante al final (un cero)."
   ]
  },
  {
   "cell_type": "code",
   "execution_count": 15,
   "metadata": {},
   "outputs": [
    {
     "data": {
      "text/plain": [
       "40.0"
      ]
     },
     "execution_count": 15,
     "metadata": {},
     "output_type": "execute_result"
    }
   ],
   "source": [
    "float(40)"
   ]
  },
  {
   "cell_type": "markdown",
   "metadata": {},
   "source": [
    "¿Porque los tipos de datos son importantes?.  Cuando ud. desea por ejemplo contar objetos, le gustaría representar a una cantidad entera positiva.  Sin embargo cuando hace un calculo estadístico le gustaría representarlo como punto flotante."
   ]
  },
  {
   "cell_type": "markdown",
   "metadata": {},
   "source": [
    "Por otro lado, cuando ud hace cálculos en python, que son flotantes, a pesar que el resultado es obvio, no necesariamente el interprete da un resultado obvio para evaluarlo con su otra variable, esto es causado por el error de precisión de punto flotante (buscar IEEE-754)."
   ]
  },
  {
   "cell_type": "code",
   "execution_count": 16,
   "metadata": {},
   "outputs": [
    {
     "data": {
      "text/plain": [
       "0.8999999999999999"
      ]
     },
     "execution_count": 16,
     "metadata": {},
     "output_type": "execute_result"
    }
   ],
   "source": [
    "0.3+ 0.3 + 0.3"
   ]
  },
  {
   "cell_type": "markdown",
   "metadata": {},
   "source": [
    "Tambien podemos verificar el tipo de datos de salida, debajo mostramos dos ejemplos"
   ]
  },
  {
   "cell_type": "code",
   "execution_count": 17,
   "metadata": {},
   "outputs": [
    {
     "data": {
      "text/plain": [
       "str"
      ]
     },
     "execution_count": 17,
     "metadata": {},
     "output_type": "execute_result"
    }
   ],
   "source": [
    "type('2')"
   ]
  },
  {
   "cell_type": "code",
   "execution_count": 18,
   "metadata": {},
   "outputs": [
    {
     "data": {
      "text/plain": [
       "int"
      ]
     },
     "execution_count": 18,
     "metadata": {},
     "output_type": "execute_result"
    }
   ],
   "source": [
    "type(2)"
   ]
  },
  {
   "cell_type": "code",
   "execution_count": 19,
   "metadata": {},
   "outputs": [
    {
     "data": {
      "text/plain": [
       "float"
      ]
     },
     "execution_count": 19,
     "metadata": {},
     "output_type": "execute_result"
    }
   ],
   "source": [
    "type(2.0)"
   ]
  },
  {
   "cell_type": "markdown",
   "metadata": {},
   "source": [
    "Note que es obvio que el resultado es 0.9, pero en realidad el intérprete aproxima la respuesta, en la mayoria de los casos que hacemos comparaciones esto es evaluado sin problemas, pero tenga en cuenta que esta es una posibilidad en donde su código no funcione bien y haya que tomar consideración de esto."
   ]
  },
  {
   "cell_type": "markdown",
   "metadata": {},
   "source": [
    "#### Algebra lineal\n",
    "\n",
    "Aquí veremos un poco de lo básico de vectores, mulitplicación de vectores, matrices y lo necesario para cumplir con los requisitos de IA.  \n",
    "<img src=\"imgs/matmul.png\" width=\"550\" alt=\"\" style=\"\" />\n",
    "Álgebra lineal es importante para la aplicación de los conceptos de inteligencia artificial porque nos ayuda a computar rápidamente los datos.  \n",
    "Desde el punto de vista matemático nosotros escribimos ecuaciones de esta manera\n",
    "<img src=\"imgs/cosinesim.png\" width=\"550\" alt=\"\" style=\"\" />\n",
    "Ingresamos un número y obtenemos una respuesta.\n",
    "También podemos utilizar los vectores para representar un punto en el espacio, a pesar de esto, la representación puede ser un poco confusa para un primerizo.\n",
    "<img src=\"imgs/vector.png\" width=\"250\" alt=\"\" style=\"\" />\n",
    "La multiplicación de matrices, al final, es aplicar una transformación tras otra.\n",
    "<img src=\"imgs/multiplication.jpg\" width=\"550\" alt=\"\" style=\"\" />\n",
    "En los siguientes puntos trataremos de incluir lo básico formando una intuición de algebra, vectores y matrices."
   ]
  },
  {
   "cell_type": "markdown",
   "metadata": {},
   "source": [
    "#### ¿Qué es un vector?\n",
    "\n",
    "Es el fundamento de álgebra lineal se basa en vectores, un vector está definido por su largo y su magnitud como se muestra en la figura inferior.\n",
    "<img src=\"imgs/vectordef.png\" width=\"250\" alt=\"\" style=\"\" />\n",
    "Podemos trasladar el vector por cualquier plano 2D (o multidimensional) y seguirá siendo el mismo vector donde solo cambia es la traslación del vector, pero su magnitud y sentido se mantienen.\n",
    "\n",
    "Desde el punto de vista de ciencia de datos, un vector es una lista de números, como se mostró en las figuras anteriores.\n",
    "<img src=\"imgs/featurevector.svg\" width=\"550\" alt=\"\" style=\"\" />\n",
    "\n",
    "Aquí el orden es importante, y cambiarlo dará resultados diferentes.  Vectos solo es una forma elegante de llamar a una lista, y esta lista de la figura anterior, tiene alrededor de 9 elementos que sabemos que son visibles.\n",
    "\n",
    "Desde el punto de vista matemático combina, por ejemplo, escalar el vector por un valor y multiplicarlo por la lista de números.\n",
    "\n",
    "Por ahora pensemos solamente que el vector está en un plano y parte del origen.\n",
    "<img src=\"imgs/vector2d.png\" width=\"250\" alt=\"\" style=\"\" />"
   ]
  },
  {
   "cell_type": "markdown",
   "metadata": {},
   "source": [
    "##### Ejemplo con vectores\n",
    "Añadiendo dos vectores y graficandolos"
   ]
  },
  {
   "cell_type": "code",
   "execution_count": 20,
   "metadata": {},
   "outputs": [],
   "source": [
    "import numpy as np\n",
    "import matplotlib.pyplot as plt"
   ]
  },
  {
   "cell_type": "code",
   "execution_count": 21,
   "metadata": {},
   "outputs": [],
   "source": [
    "# creamos dos vectores\n",
    "a = np.array([1, 2])\n",
    "b = np.array([-4, 4])\n",
    "\n",
    "# hacemos adicion de estos vectores\n",
    "c = a + b"
   ]
  },
  {
   "cell_type": "code",
   "execution_count": 22,
   "metadata": {},
   "outputs": [
    {
     "data": {
      "image/png": "[encoded data removed]",
      "text/plain": [
       "<Figure size 432x288 with 1 Axes>"
      ]
     },
     "metadata": {
      "needs_background": "light"
     },
     "output_type": "display_data"
    }
   ],
   "source": [
    "# graficamos \n",
    "\n",
    "# creamos una referencia de eje\n",
    "ax = plt.axes()\n",
    "\n",
    "# graficamos un punto (o) en (0,0) como verde (g)\n",
    "ax.plot(0,0, 'og')\n",
    "# graficamos el vector a como azul empezando en (0,0)\n",
    "ax.arrow(0,0, *a, color='b', linewidth=0.2, head_width=0.4, head_length=0.5)\n",
    "# graficamos el otro vector b como cyan\n",
    "ax.arrow(a[0],a[1], *b, color='c', linestyle='dotted', linewidth=0.2, head_width=0.4, head_length=0.5)\n",
    "# graficamos la resultante\n",
    "ax.arrow(0,0, *c, color='k', linewidth=0.2, head_width=0.4, head_length=0.5)\n",
    "# limites para el eje x\n",
    "plt.xlim(-4,2)\n",
    "# limites para el eje y\n",
    "plt.ylim(-1,7)\n",
    "\n",
    "# ticks para el eje y\n",
    "yticks = np.arange(-1,7)\n",
    "ax.set_yticks(yticks)\n",
    "# crea un enrejado\n",
    "plt.grid(b=True, which='major')\n",
    "#display the plot\n",
    "plt.show()\n"
   ]
  },
  {
   "cell_type": "code",
   "execution_count": 23,
   "metadata": {},
   "outputs": [],
   "source": [
    "#"
   ]
  }
 ],
 "metadata": {
  "kernelspec": {
   "display_name": "Python 3",
   "language": "python",
   "name": "python3"
  },
  "language_info": {
   "codemirror_mode": {
    "name": "ipython",
    "version": 3
   },
   "file_extension": ".py",
   "mimetype": "text/x-python",
   "name": "python",
   "nbconvert_exporter": "python",
   "pygments_lexer": "ipython3",
   "version": "3.8.5"
  }
 },
 "nbformat": 4,
 "nbformat_minor": 4
}
