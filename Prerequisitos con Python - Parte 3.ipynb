{
 "cells": [
  {
   "cell_type": "markdown",
   "metadata": {},
   "source": [
    "# Prerequisitos con Python - Parte 3\n",
    "\n",
    "En esta sección veremos las diferentes maneras que ofrece python para control de flujo del algoritmo, tanto python como otros lenguajes de programación manejan la manera de que se decide ejecutar en el algoritmo pero con la sintaxis de programación especificad para cada lenguaje."
   ]
  },
  {
   "cell_type": "markdown",
   "metadata": {},
   "source": [
    "Aprenderá a hacer estructuras condicionales con código para bifurcar haciendo:\n",
    "- condicionales\n",
    "- for y while\n",
    "- break y continue\n",
    "- usar funciones especiales como zip y enumerate\n",
    "- listas de comprensión"
   ]
  },
  {
   "cell_type": "markdown",
   "metadata": {},
   "source": [
    "#### Condicionales\n",
    "\n",
    "Los códigos se ejecutan secuencialmente, de arriba hacia abajo.  Sin embargo existen situaciones que necesitamos que solamente una sección de código se ejecute en específico.\n",
    "\n",
    "Por ejemplo, digamos que su aplicación hace cobro solamente los 15 de cada mes, sin embargo siempre está activa todo el tiempo y validando que lo pactado cuando se de sea ejecutado.\n",
    "\n",
    "Debajo mostramos el posible código de esto..."
   ]
  },
  {
   "cell_type": "code",
   "execution_count": 1,
   "metadata": {},
   "outputs": [
    {
     "name": "stdout",
     "output_type": "stream",
     "text": [
      "Ejecutar cobro\n"
     ]
    }
   ],
   "source": [
    "dia = 15\n",
    "if dia == 15:\n",
    "    print('Ejecutar cobro')\n",
    "    \n",
    "dia = 2\n",
    "if dia == 15:\n",
    "    print('Ejecutar cobro')"
   ]
  },
  {
   "cell_type": "markdown",
   "metadata": {},
   "source": [
    "Una sentencia if se ejecuta dependiendo de la condicion interna de evaluación.\n",
    "\n",
    "    if <condicion>:\n",
    "        <codigo>\n",
    "\n",
    "Donde la condicion a evaluar da un resultado booleano y si es evaluada como cierta (True) hace pase para ejecutar el código identado."
   ]
  },
  {
   "cell_type": "markdown",
   "metadata": {},
   "source": [
    "#### Ahora ud\n",
    "\n",
    "Haga un flujo de código donde permita evaluar si puede aplicar a una ubicación dependiendo de su ingreso\n",
    "\n",
    "- 1-500     -- Pacora\n",
    "- 500-1000  -- Las Cumbres\n",
    "- 1000-3000 -- El Dorado\n",
    "- 3000-5000 -- San Francisco\n",
    "- 5000      -- Altos del Maria"
   ]
  },
  {
   "cell_type": "code",
   "execution_count": 1,
   "metadata": {
    "tags": []
   },
   "outputs": [
    {
     "name": "stdout",
     "output_type": "stream",
     "text": [
      "El Dorado\n"
     ]
    }
   ],
   "source": [
    "i= 1050\n",
    "if i<=500:\n",
    "    print('Pacora')\n",
    "if 500<i<=1000:\n",
    "    print('Las Cumbres')\n",
    "if 1000<i<=3000:\n",
    "    print('El Dorado')\n",
    "if 3000<i<=5000:\n",
    "    print('San Francisco')\n",
    "if 5000<i:\n",
    "    print('Altos del Maria')"
   ]
  },
  {
   "cell_type": "markdown",
   "metadata": {},
   "source": [
    "#### Adivina el número\n",
    "\n",
    "Provea la estructura condicional donde pueda evaluar si un numero es mayor, menor o ha sido acertado\n"
   ]
  },
  {
   "cell_type": "code",
   "execution_count": 2,
   "metadata": {
    "tags": []
   },
   "outputs": [
    {
     "name": "stdout",
     "output_type": "stream",
     "text": [
      "1\n",
      "Numero escogido: 1\n",
      "Te fuiste muy abajo\n"
     ]
    }
   ],
   "source": [
    "respuesta = 18\n",
    "numero    = int(input())\n",
    "\n",
    "if respuesta<numero:\n",
    "    resp = 'Te fuiste muy arriba'\n",
    "if respuesta>numero:\n",
    "    resp = 'Te fuiste muy abajo'\n",
    "if respuesta==numero:\n",
    "    resp = 'Ese es el numero, atinaste'\n",
    "print('Numero escogido:', numero)    \n",
    "print(resp)"
   ]
  },
  {
   "cell_type": "markdown",
   "metadata": {},
   "source": [
    "#### Pago de impuestos\n",
    "\n",
    "Haga un programa donde si gana mas de 900 dolares calcule e imprima el seguro social y educativo a descontar.\n",
    "Nota:  \n",
    "- Tome 9.75% como seguro social\n",
    "- Tome 1.25% como seguro educativo"
   ]
  },
  {
   "cell_type": "code",
   "execution_count": 4,
   "metadata": {
    "tags": []
   },
   "outputs": [
    {
     "name": "stdout",
     "output_type": "stream",
     "text": [
      "1200\n",
      "Salario: 1200\n",
      "Salario Total: 1068.0\n"
     ]
    }
   ],
   "source": [
    "S=int(input())\n",
    "print('Salario:', S)\n",
    "if S<=900:\n",
    "    print('No Hay Descuento.')\n",
    "if S>900:\n",
    "    SS=S*0.0975\n",
    "    SE=S*0.0125\n",
    "    ST= S-(SS+SE)\n",
    "    print('Salario Total:', ST)\n"
   ]
  },
  {
   "cell_type": "markdown",
   "metadata": {},
   "source": [
    "### Expresiones boolanas para estructuras condicionales\n",
    "\n",
    "Todo lo visto anteriormente solamente evalua una condicion de experesion, pero se pueden insertar más de una expresión en la sentencia if.\n",
    "\n",
    "Podemos también insertar algebra para hacer calculos antes de toma de decisiones"
   ]
  },
  {
   "cell_type": "code",
   "execution_count": 4,
   "metadata": {},
   "outputs": [
    {
     "name": "stdout",
     "output_type": "stream",
     "text": [
      "Usted es un adulto joven\n"
     ]
    }
   ],
   "source": [
    "edad = 24\n",
    "if 18 < edad <= 40:\n",
    "    print('Usted es un adulto joven')"
   ]
  },
  {
   "cell_type": "code",
   "execution_count": 8,
   "metadata": {},
   "outputs": [
    {
     "name": "stdout",
     "output_type": "stream",
     "text": [
      "Ud es normal y no sufre de gigantismo\n"
     ]
    }
   ],
   "source": [
    "# w/h es la razon de aspecto de una persona\n",
    "w = 0.8\n",
    "h = 1.7\n",
    "if 2.5 > h/w > 1.5:\n",
    "    print('Ud es normal y no sufre de gigantismo')"
   ]
  },
  {
   "cell_type": "markdown",
   "metadata": {},
   "source": [
    "Tambien podemos evaluar las condiciones utilizando algebra booleana comun y corriente con expresiones como 'and' 'or' 'not'.  Para el caso siguiente note que necesitamos que ambas variables sean ciertas para ejecutar esta linea de código."
   ]
  },
  {
   "cell_type": "code",
   "execution_count": 9,
   "metadata": {},
   "outputs": [
    {
     "name": "stdout",
     "output_type": "stream",
     "text": [
      "Puedo pasear en auto\n"
     ]
    }
   ],
   "source": [
    "haveCar = True\n",
    "haveGas = True\n",
    "if haveCar and haveGas:\n",
    "    print('Puedo pasear en auto')"
   ]
  },
  {
   "cell_type": "markdown",
   "metadata": {},
   "source": [
    "Compliquemos un poco más el asunto viendo una estructura mas compleja.\n",
    "\n",
    "Asumamos que hemos sido evaluados para ingresar a una empresa bajo las siguientes condicionales."
   ]
  },
  {
   "cell_type": "code",
   "execution_count": 12,
   "metadata": {},
   "outputs": [
    {
     "name": "stdout",
     "output_type": "stream",
     "text": [
      "El candidato encaja en el perfil\n"
     ]
    }
   ],
   "source": [
    "haveSkills = True\n",
    "knowPython = True\n",
    "partTime   = False\n",
    "LiveIn     = 'PANAMA'\n",
    "problematic = False\n",
    "teamwork   = 0.7\n",
    "if haveSkills and knowPython and (LiveIn == 'PANAMA' or LiveIn == 'COLON') and (not problematic and teamwork > 0.65):\n",
    "    print('El candidato encaja en el perfil')"
   ]
  },
  {
   "cell_type": "markdown",
   "metadata": {},
   "source": [
    "En resumen, debemos tener en cuenta que para que la condición a evaluar dentro del if se ejecute el total de las expresiones debe ser booleanamente como cierta."
   ]
  },
  {
   "cell_type": "markdown",
   "metadata": {},
   "source": [
    "#### AHora ud\n",
    "\n",
    "Imagine que un robot va a detectar una colision y la metrica es distancia.  Genre una parte de expresion booleana que determine si colisiona cuando la distancia decae por debajo de 0.5 metros."
   ]
  },
  {
   "cell_type": "code",
   "execution_count": 5,
   "metadata": {
    "tags": []
   },
   "outputs": [
    {
     "name": "stdout",
     "output_type": "stream",
     "text": [
      "0.4\n",
      "Distancia detectada:  0.4\n",
      "Peligro\n"
     ]
    }
   ],
   "source": [
    "D=float(input())\n",
    "B= True\n",
    "print('Distancia detectada: ', D)\n",
    "if B and D < 0.5:\n",
    "    print('Peligro')\n"
   ]
  },
  {
   "cell_type": "markdown",
   "metadata": {},
   "source": [
    "Cuáles seran los resultados de estas condiciones:\n",
    "\n",
    "- tiempo = 10\n",
    "- distancia = 0.5\n",
    "- velocidad = 0.2\n",
    "\n",
    "Evaluar para\n",
    "- `10 > tiempo > 1`\n",
    "- `velocidad*tiempo > 4 and distancia > 0.2 and tiempo`\n",
    "- `not (velocidad/t**2 > 0.1) or distancia < 1`\n",
    "- `velocidad*tiempo > 0.5 or distancia/tiempo > 10`"
   ]
  },
  {
   "cell_type": "code",
   "execution_count": 6,
   "metadata": {
    "tags": []
   },
   "outputs": [
    {
     "name": "stdout",
     "output_type": "stream",
     "text": [
      "Resultado C\n",
      "Resultado D\n"
     ]
    }
   ],
   "source": [
    "T=10\n",
    "D=0.5\n",
    "V=0.2\n",
    "if 10>T>1:\n",
    "    print('Resultado A')\n",
    "if(V*T > 4) and (D > 0.2 and T):\n",
    "    print('Resultado B')\n",
    "if not (V/T**2 > 0.1) or (D < 1):\n",
    "    print('Resultado C')\n",
    "if (V*T > 0.5) or (D/T > 10):\n",
    "    print('Resultado D')"
   ]
  },
  {
   "cell_type": "markdown",
   "metadata": {},
   "source": [
    "### Ciclos For\n",
    "\n",
    "Ahora que sabe utilizar instrucciones condicionales podemos ver los ciclos, veremos primero ciclos for y luego ciclos while que son las estructuras cíclicas que maneja este lenguaje.\n",
    "\n",
    "Hablemos del objeto `iterable`.  Este objeto puede retornar más de un elemento a la vez.  Pueden retornar cualesquiera de estos 3 elementos `listas, cadenas o tuples` ademas de `diccionarios y archivos`.\n",
    "\n",
    "Veamos un ejemplo..."
   ]
  },
  {
   "cell_type": "code",
   "execution_count": 50,
   "metadata": {
    "tags": []
   },
   "outputs": [
    {
     "name": "stdout",
     "output_type": "stream",
     "text": [
      "PANAMA\n",
      "COLON\n",
      "DARIEN\n",
      "VERAGUAS\n",
      "CHIRIQUI\n",
      "HERRERA\n",
      "LOS SANTOS\n"
     ]
    }
   ],
   "source": [
    "algunas_provincias = ['PanAma', 'ColOn', 'DArien', 'VerAguas', 'ChIriqui', 'HErrera', 'LOs SAntOs']\n",
    "\n",
    "for provincia in algunas_provincias:\n",
    "    print(provincia.upper())"
   ]
  },
  {
   "cell_type": "markdown",
   "metadata": {},
   "source": [
    "¿Que sucede?.  Del ejemplo anterior tenemos que disectar un poco.\n",
    "- For nos dice que es un ciclo o un bucle repetitivo\n",
    "- algunas_provincias  es el iterable o la variable que contiene los elementos en donde vamos a ciclar\n",
    "- provincia    es la variable que contiene el estado actual de ciclo que esta procesando\n",
    "\n",
    "En la primera iteración será Panamá, luego colon y así sucesivamente hasta llegar al final de la lista, la variable provincia irá tomando ese valor."
   ]
  },
  {
   "cell_type": "markdown",
   "metadata": {},
   "source": [
    "Podemos también crear lazos para ingresar una nueva lista o elementos a la misma lista.  Veamos como con el mismo ejemplo podemso hacerlo."
   ]
  },
  {
   "cell_type": "code",
   "execution_count": 17,
   "metadata": {},
   "outputs": [
    {
     "name": "stdout",
     "output_type": "stream",
     "text": [
      "['PANAMA', 'COLON', 'DARIEN', 'VERAGUAS', 'CHIRIQUI', 'HERRERA', 'LOS SANTOS']\n"
     ]
    }
   ],
   "source": [
    "algunas_provincias = ['PanAma', 'ColOn', 'DArien', 'VerAguas', 'ChIriqui', 'HErrera', 'LOs SAntOs']\n",
    "en_mayusculas = []\n",
    "for provincia in algunas_provincias:\n",
    "    en_mayusculas.append(provincia.upper())\n",
    "\n",
    "print(en_mayusculas)"
   ]
  },
  {
   "cell_type": "markdown",
   "metadata": {},
   "source": [
    "Bien, hemos visto como insertar en una lista, pero que pasa si queremos modificar. Podemos utilizar la función range para esto.\n",
    "- range(start, stop, step)\n",
    "    - Nota:  Los argumentos todos son números enteros para este caso\n",
    "    - start es donde inicia la secuencia\n",
    "    - stop es donde se detiene o la condicion final\n",
    "    - step es de cuanto en cuanto va avanzando el ciclo\n",
    "    - Si no se especifican start o step son 0 y 1 respectivamente\n",
    "    \n",
    "Entendamos un poco como opera range antes de seguir"
   ]
  },
  {
   "cell_type": "code",
   "execution_count": 20,
   "metadata": {},
   "outputs": [
    {
     "data": {
      "text/plain": [
       "[0, 1, 2, 3, 4, 5, 6, 7, 8, 9]"
      ]
     },
     "execution_count": 20,
     "metadata": {},
     "output_type": "execute_result"
    }
   ],
   "source": [
    "list(range(10))"
   ]
  },
  {
   "cell_type": "markdown",
   "metadata": {},
   "source": [
    "Observo que cuando se especifica range() este empieza de 0 y termina en n-1, es por esto que la secuencia es de 0 a 9 si se especifica un valor final de 10."
   ]
  },
  {
   "cell_type": "code",
   "execution_count": 21,
   "metadata": {},
   "outputs": [
    {
     "data": {
      "text/plain": [
       "[4, 5, 6, 7, 8]"
      ]
     },
     "execution_count": 21,
     "metadata": {},
     "output_type": "execute_result"
    }
   ],
   "source": [
    "list(range(4, 9))"
   ]
  },
  {
   "cell_type": "code",
   "execution_count": 22,
   "metadata": {},
   "outputs": [
    {
     "data": {
      "text/plain": [
       "[1]"
      ]
     },
     "execution_count": 22,
     "metadata": {},
     "output_type": "execute_result"
    }
   ],
   "source": [
    "list(range(1,2))"
   ]
  },
  {
   "cell_type": "markdown",
   "metadata": {},
   "source": [
    "Aquí entonces notara que solamente hace uso del valor start = 4 y stop = 9, que en la lista es el 8 (o 9-1).  Igualmente para start = 1 y stop = 2 note que solamente ejecuta un solo paso.\n",
    "\n",
    "Note que no utilizamos print para imprimir el contenido de range() sino una lista, esto es porque si utilizamos print nos da el tipo de datos.  La manera de hacerlo correctamente es utilizando lo anterior o también con ciclos for."
   ]
  },
  {
   "cell_type": "code",
   "execution_count": 23,
   "metadata": {},
   "outputs": [
    {
     "name": "stdout",
     "output_type": "stream",
     "text": [
      "range(0, 10)\n",
      "0\n",
      "1\n",
      "2\n",
      "3\n",
      "4\n",
      "5\n",
      "6\n",
      "7\n",
      "8\n",
      "9\n"
     ]
    }
   ],
   "source": [
    "print(range(10))\n",
    "\n",
    "for n in range(10):\n",
    "    print(n)"
   ]
  },
  {
   "cell_type": "markdown",
   "metadata": {},
   "source": [
    "Otra manera de acceder cada elemento de una lista es por medio de su índice, veamos como se hace esto con un ciclo for"
   ]
  },
  {
   "cell_type": "code",
   "execution_count": 29,
   "metadata": {},
   "outputs": [
    {
     "name": "stdout",
     "output_type": "stream",
     "text": [
      "['panama', 'colon', 'darien', 'veraguas', 'chiriqui', 'herrera', 'los santos']\n"
     ]
    }
   ],
   "source": [
    "algunas_provincias = ['PanAma', 'ColOn', 'DArien', 'VerAguas', 'ChIriqui', 'HErrera', 'LOs SAntOs']\n",
    "for provincia_num in range(len(algunas_provincias)):\n",
    "    algunas_provincias[provincia_num] = algunas_provincias[provincia_num].lower()\n",
    "    \n",
    "print(algunas_provincias)"
   ]
  },
  {
   "cell_type": "markdown",
   "metadata": {},
   "source": [
    "#### Ahora practique ud\n",
    "\n",
    "1 - Use ciclos for para listar los elementos de la tabla periódica correctamente (primera letra en mayúscula).  Pista: use la funcion title()."
   ]
  },
  {
   "cell_type": "code",
   "execution_count": 7,
   "metadata": {
    "tags": []
   },
   "outputs": [
    {
     "name": "stdout",
     "output_type": "stream",
     "text": [
      "Na , Br , Ca , Cu , Au , Nd , Ag\n"
     ]
    }
   ],
   "source": [
    "table_periodica = ['na', 'br', 'ca', 'cu', 'au', 'nd', 'ag']\n",
    "for elementos in range(len(table_periodica)):\n",
    "    table_periodica[elementos]= table_periodica[elementos].title()\n",
    "print(' , '.join(table_periodica))"
   ]
  },
  {
   "cell_type": "markdown",
   "metadata": {},
   "source": [
    "Respuesta esperada:\n",
    "\n",
    "['Na', 'Br', 'Ca', 'Cu', 'Au', 'Nd', 'Ag']"
   ]
  },
  {
   "cell_type": "markdown",
   "metadata": {},
   "source": [
    "2 - Escriba con ciclos for el siguiente trabalenguas con espacios."
   ]
  },
  {
   "cell_type": "code",
   "execution_count": 8,
   "metadata": {
    "tags": []
   },
   "outputs": [
    {
     "data": {
      "text/plain": [
       "'Por desenredar el enredo que ayer enredé. Hoy enredo el desenredo que desenredé ayer.'"
      ]
     },
     "execution_count": 8,
     "metadata": {},
     "output_type": "execute_result"
    }
   ],
   "source": [
    "trabalenguas = ['Por', 'desenredar', 'el', 'enredo', 'que', 'ayer', 'enredé.', 'Hoy', 'enredo',\n",
    "                'el', 'desenredo', 'que', 'desenredé', 'ayer.']\n",
    "\n",
    "\" \".join([palabras for palabras in trabalenguas])\n"
   ]
  },
  {
   "cell_type": "markdown",
   "metadata": {},
   "source": [
    "Respuesta esperada:\n",
    "\n",
    "'Por desenredar el enredo que ayer enredé. Hoy enredo el desenredo que desenredé ayer'"
   ]
  },
  {
   "cell_type": "markdown",
   "metadata": {},
   "source": [
    "3 - Escriba un programa que calcule el factorial del número 6 solamente teniendo como ingreso el número 6"
   ]
  },
  {
   "cell_type": "code",
   "execution_count": 10,
   "metadata": {
    "tags": []
   },
   "outputs": [
    {
     "name": "stdout",
     "output_type": "stream",
     "text": [
      "El factorial es: 720\n"
     ]
    }
   ],
   "source": [
    "N=6\n",
    "F=1\n",
    "for i in range(1, N +1):\n",
    "    F= F*i\n",
    "print('El factorial es:', F)"
   ]
  },
  {
   "cell_type": "markdown",
   "metadata": {},
   "source": [
    "Respuesta esperada:\n",
    "\n",
    "720"
   ]
  },
  {
   "cell_type": "markdown",
   "metadata": {},
   "source": [
    "Haga la progresión de sumas del número 30, es decir:\n",
    "- 1\n",
    "- 1+2\n",
    "- 1+2+3\n",
    "- 1+2+3...+30"
   ]
  },
  {
   "cell_type": "code",
   "execution_count": 11,
   "metadata": {
    "tags": []
   },
   "outputs": [
    {
     "name": "stdout",
     "output_type": "stream",
     "text": [
      "465\n"
     ]
    }
   ],
   "source": [
    "I=1\n",
    "F=30\n",
    "R=0\n",
    "for i in range(I ,F+1):\n",
    "    R +=i\n",
    "print(R)"
   ]
  },
  {
   "cell_type": "markdown",
   "metadata": {},
   "source": [
    "Resultado esperado:\n",
    "\n",
    "465"
   ]
  },
  {
   "cell_type": "markdown",
   "metadata": {},
   "source": [
    "Escriba los siguientes nombres en minuscula separados por '-'\n",
    "\n",
    "- Himura Kenshin\n",
    "- Kamiya Kaoru\n",
    "- Myōjin Yahiko\n",
    "- Sagara Sanosuke\n",
    "- Takani Megumi\n",
    "- Shinomori Aoshi\n",
    "- Saitō Hajime\n",
    "- Makimachi Misao"
   ]
  },
  {
   "cell_type": "code",
   "execution_count": 12,
   "metadata": {
    "tags": []
   },
   "outputs": [
    {
     "name": "stdout",
     "output_type": "stream",
     "text": [
      "himura-kenshin\n",
      " kamiya-kaoru\n",
      " myōjin-yahiko\n",
      " sagara-sanosuke\n",
      " takani-megumi\n",
      " shinomori-aoshi\n",
      " saitō-hajime\n",
      " makimachi-misao\n"
     ]
    }
   ],
   "source": [
    "Nombres=['Himura Kenshin', 'Kamiya Kaoru', 'Myōjin Yahiko', 'Sagara Sanosuke', 'Takani Megumi', 'Shinomori Aoshi', 'Saitō Hajime', 'Makimachi Misao']\n",
    "A=None\n",
    "Nombresf=[]\n",
    "for n in Nombres:\n",
    "    A=str(n)\n",
    "    A1= A.replace(' ', '-')\n",
    "    Nombresf.append(A1)\n",
    "Nombresf='\\n '.join(Nombresf)\n",
    "print(Nombresf.lower())\n"
   ]
  },
  {
   "cell_type": "markdown",
   "metadata": {},
   "source": [
    "Respuesta esperada:\n",
    "\n",
    "- himura-kenshin\n",
    "- kamiya-kaoru\n",
    "- myōjin-yahiko\n",
    "- sagara-sanosuke\n",
    "- takani-megumi\n",
    "- shinomori-aoshi\n",
    "- saitō-hajime\n",
    "- makimachi-misao"
   ]
  },
  {
   "cell_type": "markdown",
   "metadata": {},
   "source": [
    "### Iteracion con diccionarios\n",
    "\n",
    "Con diccionarios la situación cambia un poco, recordemos que un diccionario tiene 'keys' y 'values'.  Veamos que pasa si interactuamos con uno."
   ]
  },
  {
   "cell_type": "code",
   "execution_count": 39,
   "metadata": {},
   "outputs": [
    {
     "name": "stdout",
     "output_type": "stream",
     "text": [
      "0\n",
      "1\n",
      "2\n",
      "3\n",
      "4\n",
      "5\n",
      "6\n",
      "7\n",
      "8\n",
      "9\n",
      "10\n"
     ]
    }
   ],
   "source": [
    "numeros = {0:'cero', 1:'uno', 2:'dos', 3:'tres', 4:'cuatro', 5:'cinco',\n",
    "           6:'seis', 7:'siete', 8:'ocho', 9:'nueve', 10:'diez'}\n",
    "\n",
    "for num in numeros:\n",
    "    print(num)"
   ]
  },
  {
   "cell_type": "markdown",
   "metadata": {},
   "source": [
    "Notamos que si tendemos a imprimir de una lista entonces solamente tenemos las llaves (keys), que pasa si queremos los valores, pues entonces tenemos que acceder la funcion items()."
   ]
  },
  {
   "cell_type": "code",
   "execution_count": 40,
   "metadata": {},
   "outputs": [
    {
     "name": "stdout",
     "output_type": "stream",
     "text": [
      "0 cero\n",
      "1 uno\n",
      "2 dos\n",
      "3 tres\n",
      "4 cuatro\n",
      "5 cinco\n",
      "6 seis\n",
      "7 siete\n",
      "8 ocho\n",
      "9 nueve\n",
      "10 diez\n"
     ]
    }
   ],
   "source": [
    "for key, val in numeros.items():\n",
    "    print(key, val)"
   ]
  },
  {
   "cell_type": "markdown",
   "metadata": {},
   "source": [
    "igualmente, podemos acceder partes del diccionario con keys() o values() respectivamente"
   ]
  },
  {
   "cell_type": "code",
   "execution_count": 44,
   "metadata": {},
   "outputs": [
    {
     "name": "stdout",
     "output_type": "stream",
     "text": [
      "0\n",
      "1\n",
      "2\n",
      "3\n",
      "4\n",
      "5\n",
      "6\n",
      "7\n",
      "8\n",
      "9\n",
      "10\n"
     ]
    }
   ],
   "source": [
    "for key in numeros.keys():\n",
    "    print(key)"
   ]
  },
  {
   "cell_type": "code",
   "execution_count": 45,
   "metadata": {},
   "outputs": [
    {
     "name": "stdout",
     "output_type": "stream",
     "text": [
      "cero\n",
      "uno\n",
      "dos\n",
      "tres\n",
      "cuatro\n",
      "cinco\n",
      "seis\n",
      "siete\n",
      "ocho\n",
      "nueve\n",
      "diez\n"
     ]
    }
   ],
   "source": [
    "for val in numeros.values():\n",
    "    print(val)"
   ]
  },
  {
   "cell_type": "markdown",
   "metadata": {},
   "source": [
    "#### Ahora intentelo ud\n",
    "\n",
    "Intente sumar todas las edades en el diccionario"
   ]
  },
  {
   "cell_type": "code",
   "execution_count": 13,
   "metadata": {
    "tags": []
   },
   "outputs": [
    {
     "name": "stdout",
     "output_type": "stream",
     "text": [
      "74\n"
     ]
    }
   ],
   "source": [
    "edades = {'Juan':10, 'Javier': 4, 'Jonas':8, 'Nuria': 20, 'Edith': 18, 'Ana':14}\n",
    "resultado=0\n",
    "for i in edades.values():\n",
    "    resultado +=i\n",
    "print(resultado)"
   ]
  },
  {
   "cell_type": "markdown",
   "metadata": {},
   "source": [
    "Respuesta esperada:\n",
    "\n",
    "74"
   ]
  },
  {
   "cell_type": "markdown",
   "metadata": {},
   "source": [
    "###  Ciclos While\n",
    "\n",
    "Los ciclos for se ejecutan dependiendo del control deseado, es decir podemos ejecutarla por medio de un limitador de condición final.  Ejecuta entonces en un rango de valores o también por medio del contenido de una lista.\n",
    "\n",
    "Considere el siguiente ejemplo de un ciclo while, que es otra estructura de repeticion en python."
   ]
  },
  {
   "cell_type": "code",
   "execution_count": 66,
   "metadata": {},
   "outputs": [
    {
     "name": "stdout",
     "output_type": "stream",
     "text": [
      "[43, 22, 120, 10, 9, 4, 1]\n"
     ]
    }
   ],
   "source": [
    "numeros = [1, 4, 9, 10, 120, 22, 43]\n",
    "reversal = []\n",
    "i = 0\n",
    "while len(numeros):\n",
    "    reversal.append(numeros.pop())\n",
    "    i +=1\n",
    "    \n",
    "print(reversal)"
   ]
  },
  {
   "cell_type": "markdown",
   "metadata": {},
   "source": [
    "### Ahora ud\n",
    "\n",
    "Presente el resultado del factorial de 6 pero ahora utilizando ciclos while\n",
    "\n"
   ]
  },
  {
   "cell_type": "code",
   "execution_count": 14,
   "metadata": {
    "tags": []
   },
   "outputs": [
    {
     "name": "stdout",
     "output_type": "stream",
     "text": [
      "720\n"
     ]
    }
   ],
   "source": [
    "f=6\n",
    "r=1\n",
    "while(f>=1):\n",
    "    r=r*f\n",
    "    f=f-1\n",
    "print(r)"
   ]
  },
  {
   "cell_type": "markdown",
   "metadata": {},
   "source": [
    "Respuesta esperada:\n",
    "    \n",
    "720"
   ]
  },
  {
   "cell_type": "markdown",
   "metadata": {},
   "source": [
    "De la siguiente lista solamente liste los numeros que son impares utilizando ciclo while"
   ]
  },
  {
   "cell_type": "code",
   "execution_count": 15,
   "metadata": {
    "tags": []
   },
   "outputs": [
    {
     "name": "stdout",
     "output_type": "stream",
     "text": [
      "\n",
      " 1\n",
      " 3\n",
      " 5\n",
      " 7\n",
      " 9\n",
      " 11\n",
      " 13\n",
      " 15"
     ]
    }
   ],
   "source": [
    "lista = list(range(16))\n",
    "impar=1\n",
    "while (impar<len(lista)):\n",
    "    if lista[impar]%2!=0:\n",
    "       print('\\n',lista[impar], end='')\n",
    "    \n",
    "    impar +=1\n",
    " \n",
    "\n"
   ]
  },
  {
   "cell_type": "markdown",
   "metadata": {},
   "source": [
    "Respuesta esperada:\n",
    "\n",
    "Una lista en orden ascendente o descendente como sigue:\n",
    "\n",
    "    15 \n",
    "    13\n",
    "    11 \n",
    "    9\n",
    "    7\n",
    "    5\n",
    "    3\n",
    "    1\n",
    "    \n",
    "    ó\n",
    "    \n",
    "    1\n",
    "    3\n",
    "    5\n",
    "    7\n",
    "    9\n",
    "    11\n",
    "    13\n",
    "    15"
   ]
  },
  {
   "cell_type": "markdown",
   "metadata": {},
   "source": [
    "Encuentre potencia al cuadrado mas cercana al número que se da a continuación utilizando el ciclo while.\n",
    "\n",
    "Nota:  Solo utilice valores enteros, no decimales"
   ]
  },
  {
   "cell_type": "code",
   "execution_count": 16,
   "metadata": {
    "tags": []
   },
   "outputs": [
    {
     "name": "stdout",
     "output_type": "stream",
     "text": [
      "El número más cercano es 21\n"
     ]
    }
   ],
   "source": [
    "num = 456\n",
    "R=0\n",
    "while (R+1)**2<num:\n",
    "    R+=1\n",
    "    \n",
    "print('El número más cercano es {}'.format(R))\n"
   ]
  },
  {
   "cell_type": "markdown",
   "metadata": {},
   "source": [
    "Respuesta esperada:\n",
    "\n",
    "El número más cercano es 21"
   ]
  },
  {
   "cell_type": "markdown",
   "metadata": {},
   "source": [
    "### Break y Continue\n",
    "\n",
    "Como vimos anteriormente los ciclos for y while hacen lazos.  El ciclo for especificamente culmina hasta en contrar el final de una secuencia y el ciclo while hasta encontrar una condicion final.\n",
    "\n",
    "En la mayoria de los casos esto es suficiente, pero a veces necesitamos más control del flujo final de estos lazos.  \n",
    "\n",
    "Para el caso de break termina el ciclo y se da luego de que una condición se alcanza.\n",
    "\n",
    "En el caso de continue, al alcanzar la condicion retornamos a realizar la iteraccion para el siguiente dato del ciclo.\n",
    "\n",
    "Esto se verá mejor en un ejemplo.\n"
   ]
  },
  {
   "cell_type": "markdown",
   "metadata": {},
   "source": [
    "Para el siguiente ejemplo suponga que ud tiene un contenedor de 40 pies y que la carga máxima es 3750 kg.  \n",
    "\n",
    "Vamos a realizar un programa que nos haga cargar todos los elementos que sean menors a 500 kg."
   ]
  },
  {
   "cell_type": "code",
   "execution_count": 101,
   "metadata": {},
   "outputs": [
    {
     "name": "stdout",
     "output_type": "stream",
     "text": [
      "Cargamos al contenedor ['frutas', 'cereales', 'detergente', 'hogar', 'farmacia'] y el peso total de la mercancia es 1844 kg\n"
     ]
    }
   ],
   "source": [
    "# item, peso (kg)\n",
    "items = [('frutas', 320), ('vegetales', 655), ('jugetes', 880), ('cereales', 375), \n",
    "         ('detergente', 450), ('hogar', 200), ('farmacia', 499), ('papel', 1000), ('otros', 932)]\n",
    "\n",
    "contenedor = []\n",
    "total_weight = 0\n",
    "for item in items:\n",
    "    name, weight = item\n",
    "    if weight > 500:\n",
    "        continue # no cargar al contenedor\n",
    "    else:\n",
    "        total_weight += weight              \n",
    "        contenedor.append(name)\n",
    "\n",
    "print(f'Cargamos al contenedor {contenedor} y el peso total de la mercancia es {total_weight} kg')"
   ]
  },
  {
   "cell_type": "markdown",
   "metadata": {},
   "source": [
    "El mismo contenedor de 40 pies y de carga máxima es 3750 kg.  \n",
    "\n",
    "Vamos a realizar un programa que cuando detecte que la capacidad máxima sobrepasa los 3750 kg se detenga.\n"
   ]
  },
  {
   "cell_type": "code",
   "execution_count": 102,
   "metadata": {},
   "outputs": [
    {
     "name": "stdout",
     "output_type": "stream",
     "text": [
      "Cargamos al contenedor ['frutas', 'vegetales', 'jugetes', 'cereales', 'detergente', 'hogar', 'farmacia'] y el peso total de la mercancia es 3379 kg\n"
     ]
    }
   ],
   "source": [
    "contenedor = []\n",
    "total_weight = 0\n",
    "for item in items:\n",
    "    name, weight = item\n",
    "    total_weight += weight        \n",
    "    if total_weight >= 3750:\n",
    "        total_weight -= weight\n",
    "        break # no cargar más de la capacidad máxima\n",
    "    else:              \n",
    "        contenedor.append(name)\n",
    "\n",
    "print(f'Cargamos al contenedor {contenedor} y el peso total de la mercancia es {total_weight} kg')"
   ]
  },
  {
   "cell_type": "markdown",
   "metadata": {},
   "source": [
    "#### Debugging\n",
    "\n",
    "Una manera simple de hacer debug (depurar el código o encontrar errores) es utilizando print() como hemos visto... podemos utilizar los mismos en la hoja y ver que está sucediendo"
   ]
  },
  {
   "cell_type": "code",
   "execution_count": 108,
   "metadata": {},
   "outputs": [
    {
     "name": "stdout",
     "output_type": "stream",
     "text": [
      "cargando frutas, peso actual 320\n",
      "cargando vegetales, peso actual 975\n",
      "cargando jugetes, peso actual 1855\n",
      "cargando cereales, peso actual 2230\n",
      "cargando detergente, peso actual 2680\n",
      "cargando hogar, peso actual 2880\n",
      "cargando farmacia, peso actual 3379\n",
      "\n",
      "**carga total al final del ciclo 3379**\n",
      "\n",
      "Cargamos al contenedor ['frutas', 'vegetales', 'jugetes', 'cereales', 'detergente', 'hogar', 'farmacia'] y el peso total de la mercancia es 3379 kg\n"
     ]
    }
   ],
   "source": [
    "contenedor = []\n",
    "total_weight = 0\n",
    "for item in items:\n",
    "    name, weight = item\n",
    "    total_weight += weight        \n",
    "    if total_weight >= 3750:\n",
    "        total_weight -= weight\n",
    "        print(f'\\n**carga total al final del ciclo {total_weight}**')        \n",
    "        break # no cargar más de la capacidad máxima\n",
    "    else:  \n",
    "        print(f'cargando {name}, peso actual {total_weight}')\n",
    "        contenedor.append(name)\n",
    "\n",
    "print(f'\\nCargamos al contenedor {contenedor} y el peso total de la mercancia es {total_weight} kg')"
   ]
  },
  {
   "cell_type": "markdown",
   "metadata": {},
   "source": [
    "### Mas de Continue en ciclos\n",
    "\n",
    "A veces necesitamos esquivar solamente el primer valor o un solo valor, para esto podemos utilizar 'in' que vimos anteriormente en otros apartados.\n",
    "\n",
    "Para el siguiente ejemplo vamos a pasar y eli"
   ]
  },
  {
   "cell_type": "code",
   "execution_count": 118,
   "metadata": {},
   "outputs": [
    {
     "name": "stdout",
     "output_type": "stream",
     "text": [
      "No fue encontrado este campeon\n",
      "Contado el campeon Israel Adesanya\n",
      "No fue encontrado este campeon\n",
      "Contado el campeon Khabib Nurmagomedov\n",
      "Contado el campeon Justin Gaethje\n",
      "No fue encontrado este campeon\n",
      "No fue encontrado este campeon\n",
      "Contado el campeon Deiveson Figueiredo\n",
      "Total de campeones encontrados -> 4\n"
     ]
    }
   ],
   "source": [
    "ufc_champions = ['Stipe Miocic', 'Israel Adesanya', 'Kamaru Usman', 'Khabib Nurmagomedov',\n",
    "                 'Justin Gaethje', 'Alexander Volkanovski', 'Petr Yan', 'Deiveson Figueiredo']\n",
    "\n",
    "ufc_champions_short = ['Israel Adesanya', 'Khabib Nurmagomedov', 'Justin Gaethje', 'Deiveson Figueiredo']\n",
    "\n",
    "count = 0\n",
    "for champ in ufc_champions:\n",
    "    if champ not in ufc_champions_short:\n",
    "        print('No fue encontrado este campeon')\n",
    "        continue\n",
    "    else:\n",
    "        count = count + 1\n",
    "        print(f'Contado el campeon {champ}')\n",
    "        \n",
    "print('Total de campeones encontrados ->', count)"
   ]
  },
  {
   "cell_type": "markdown",
   "metadata": {},
   "source": [
    "#### Intentelo ud ahora\n",
    "\n",
    "Generador de piropos.  \n",
    "\n",
    "De la siguiente lista generará piropos pero excluyendo una lista de palabras ofensivas que también están en esta lista"
   ]
  },
  {
   "cell_type": "code",
   "execution_count": 17,
   "metadata": {
    "tags": []
   },
   "outputs": [
    {
     "name": "stdout",
     "output_type": "stream",
     "text": [
      "'Vida mía', 'Cielo', 'Cielito', 'Mi vida', 'Mi luz', 'Luz de mis ojos', 'Bebecita', 'Cariño', 'Papacito', 'Cariño mío', 'Cari', 'Corazón', 'Mi rey', 'Osito', 'Bombón', 'Dulzura', 'Galletita'\n"
     ]
    }
   ],
   "source": [
    "palabras = ['Cretino', 'Vida mía', 'Baboso', 'Bocachancla','Cielo', 'Cielito', 'Mi vida', 'Mi luz', \n",
    "            'Luz de mis ojos', 'Bebecita', 'Cariño', 'Papacito', 'Zoquete', 'Cariño mío', 'Patan', 'Cari', \n",
    "            'Corazón', 'Mi rey', 'Lerdo','Osito', 'Bombón', 'Charlatan', 'Dulzura', 'Galletita', \n",
    "            'Fanfarrón']\n",
    "ofensas = ['Baboso', 'Bocachancla', 'Charlatan', 'Cretino', 'Fanfarrón', 'Lerdo', 'Patan', 'Zoquete']\n",
    "piropos=[]\n",
    "for piropo in palabras:\n",
    "    if piropo in ofensas:\n",
    "        continue\n",
    "    else:\n",
    "        piropos.append(piropo)\n",
    "piroposf=str(piropos)[1:-1] \n",
    "print(piroposf)\n",
    "\n"
   ]
  },
  {
   "cell_type": "markdown",
   "metadata": {},
   "source": [
    "Respuesta esperada: \n",
    "\n",
    "Una lista de posibles piropos, p.e.\n",
    "\n",
    "'Vida Mia Cielo', 'Vida Mia Cielito', ... 'Bombon Dulzura'\n",
    "\n",
    "No se espera:\n",
    "'Papacito Zoquete'"
   ]
  },
  {
   "cell_type": "markdown",
   "metadata": {},
   "source": [
    "#### Zip y Enumerate\n",
    "\n",
    "De ejemplos anteriores observamos una lista que poseia tuples\n",
    "\n",
    "    items = [('frutas', 320), ('vegetales', 655), ('jugetes', 880), ('cereales', 375), \n",
    "         ('detergente', 450), ('hogar', 200), ('farmacia', 499), ('papel', 1000), ('otros', 932)]\n",
    "         \n",
    "Digamos que empezamos de dos listas, una de items y otra de pesos.\n",
    "\n",
    "Se puede hacer una mejor manipulación de los datos si se almacenan de forma más eficiente, es para esto que utilizamos zip.\n",
    "\n",
    "Zip, retorna un iterador que combina multiples iterables en una secuencia de tubples.  Cada tuple contiene elementos en la posicion de los iterables.\n",
    "\n",
    "Veamos el siguiente ejemplo"
   ]
  },
  {
   "cell_type": "code",
   "execution_count": 120,
   "metadata": {},
   "outputs": [
    {
     "name": "stdout",
     "output_type": "stream",
     "text": [
      "[('frutas', 320), ('vegetales', 655), ('juguetes', 880), ('cereales', 375), ('detergente', 450), ('hogar', 200), ('farmacia', 499), ('papel', 1000), ('otros', 932)]\n"
     ]
    }
   ],
   "source": [
    "item = ['frutas', 'vegetales', 'juguetes', 'cereales', 'detergente', 'hogar', 'farmacia', 'papel', 'otros']\n",
    "peso = [320, 655, 880, 375, 450, 200, 499, 1000, 932]\n",
    "\n",
    "\n",
    "print(list(zip(item, peso)))"
   ]
  },
  {
   "cell_type": "markdown",
   "metadata": {},
   "source": [
    "Tambien, como son de forma tuple, podemos desempaquetar el tuple como hicimos anteriormente, veamos como podemos hacer esto"
   ]
  },
  {
   "cell_type": "code",
   "execution_count": 121,
   "metadata": {},
   "outputs": [
    {
     "name": "stdout",
     "output_type": "stream",
     "text": [
      "frutas 320\n",
      "vegetales 655\n",
      "juguetes 880\n",
      "cereales 375\n",
      "detergente 450\n",
      "hogar 200\n",
      "farmacia 499\n",
      "papel 1000\n",
      "otros 932\n"
     ]
    }
   ],
   "source": [
    "#same as below comments\n",
    "#elementos = zip(item, peso)\n",
    "#for item, peso in elementos: # same as below\n",
    "for n, w in zip(item, peso):\n",
    "    print(n, w)"
   ]
  },
  {
   "cell_type": "markdown",
   "metadata": {},
   "source": [
    "Tambien podemos aceder y hacer unzip de los elementos del zip"
   ]
  },
  {
   "cell_type": "code",
   "execution_count": 122,
   "metadata": {},
   "outputs": [
    {
     "name": "stdout",
     "output_type": "stream",
     "text": [
      "('frutas', 'vegetales', 'juguetes', 'cereales', 'detergente', 'hogar', 'farmacia', 'papel', 'otros')\n",
      "(320, 655, 880, 375, 450, 200, 499, 1000, 932)\n"
     ]
    }
   ],
   "source": [
    "elementos = zip(item, peso)\n",
    "item, peso = zip(*elementos)\n",
    "\n",
    "print(item)\n",
    "print(peso)"
   ]
  },
  {
   "cell_type": "markdown",
   "metadata": {},
   "source": [
    "En ocasiones también nos interesa no solo descomprimir los valores de una lista sino también tener los indices de ella, esto se puede hacer con zip de la siguiente manera."
   ]
  },
  {
   "cell_type": "code",
   "execution_count": 126,
   "metadata": {},
   "outputs": [
    {
     "name": "stdout",
     "output_type": "stream",
     "text": [
      "0 frutas\n",
      "1 vegetales\n",
      "2 juguetes\n",
      "3 cereales\n",
      "4 detergente\n",
      "5 hogar\n",
      "6 farmacia\n",
      "7 papel\n",
      "8 otros\n"
     ]
    }
   ],
   "source": [
    "for i, elemento in zip(range(len(items)), item):\n",
    "    print(i, elemento)"
   ]
  },
  {
   "cell_type": "markdown",
   "metadata": {},
   "source": [
    "Esto quizá es muy complicado, para hacer lo mismo podemos utilizar 'enumerate'.  Este nos dá el índice por medio de acceso de los elementos.  Este es el método preferido porque es más 'pythonic'."
   ]
  },
  {
   "cell_type": "code",
   "execution_count": 127,
   "metadata": {},
   "outputs": [
    {
     "name": "stdout",
     "output_type": "stream",
     "text": [
      "0 frutas\n",
      "1 vegetales\n",
      "2 juguetes\n",
      "3 cereales\n",
      "4 detergente\n",
      "5 hogar\n",
      "6 farmacia\n",
      "7 papel\n",
      "8 otros\n"
     ]
    }
   ],
   "source": [
    "for i, elemento in enumerate(item):\n",
    "    print(i, elemento)"
   ]
  },
  {
   "cell_type": "markdown",
   "metadata": {},
   "source": [
    "#### Ahora intentelo ud\n",
    "\n",
    "Genere un diccionario que contenga una letra de y coordenadas en el espacio utilizando zip, por ejemplo 'A':[12, 1.2, 13]\n",
    "se dará una lista de etiquetas, y otra de coordenadas."
   ]
  },
  {
   "cell_type": "code",
   "execution_count": 18,
   "metadata": {
    "tags": []
   },
   "outputs": [
    {
     "name": "stdout",
     "output_type": "stream",
     "text": [
      "{'A': (0, 1, 2), 'B': (1, 3, 4), 'C': (-2, 5, 6), 'D': (14, 7, 8), 'F': (5, 13, 14), 'E': (4, 11, 12)}\n"
     ]
    }
   ],
   "source": [
    "x0 = [0, 1, -2, 14, -5, 4, 5]\n",
    "x1 = [1, 3, 5, 7, 9, 11, 13]\n",
    "x2 = [2, 4, 6, 8, 10, 12, 14]\n",
    "letras = ['A', 'B', 'C', 'D', 'F', 'E', 'F']\n",
    "C= zip(x0,x1,x2)\n",
    "DICC1= dict(zip(letras, C))\n",
    "print(DICC1)"
   ]
  },
  {
   "cell_type": "markdown",
   "metadata": {},
   "source": [
    "Resultado esperado:\n",
    "\n",
    "{'A': [0, 1, 2], 'B': [1, 3, 4], 'C': [-2, 5, 6], 'D': [14, 7, 8], 'F': [5, 13, 14], 'E': [4, 11, 12]}"
   ]
  },
  {
   "cell_type": "markdown",
   "metadata": {},
   "source": [
    "Haga unizp de la lista inferior"
   ]
  },
  {
   "cell_type": "code",
   "execution_count": 19,
   "metadata": {
    "tags": []
   },
   "outputs": [
    {
     "name": "stdout",
     "output_type": "stream",
     "text": [
      "(1, 2, 3, 4, 5)\n",
      "(-1, -2, -3, -4, -5)\n"
     ]
    }
   ],
   "source": [
    "tup = ((1,-1), (2,-2), (3,-3), (4,-4), (5,-5))\n",
    "pos,neg= zip(*tup)\n",
    "\n",
    "print(pos)\n",
    "print(neg)"
   ]
  },
  {
   "cell_type": "markdown",
   "metadata": {},
   "source": [
    "Respuesta esperada:\n",
    "\n",
    "(1, 2, 3, 4, 5)\n",
    "\n",
    "(-1, -2, -3, -4, -5)"
   ]
  },
  {
   "cell_type": "markdown",
   "metadata": {},
   "source": [
    "Utilice zip para convertir la siguiente matriz 5x4 en una matriz 4x5"
   ]
  },
  {
   "cell_type": "code",
   "execution_count": 20,
   "metadata": {
    "tags": []
   },
   "outputs": [
    {
     "name": "stdout",
     "output_type": "stream",
     "text": [
      "((1, 5, 9, 13, 17), (2, 6, 10, 14, 18), (3, 7, 11, 15, 19), (4, 8, 12, 16, 20))\n"
     ]
    }
   ],
   "source": [
    "matriz5x4 = (( 1, 2, 3, 4),\n",
    "             ( 5, 6, 7, 8),\n",
    "             ( 9,10,11,12),\n",
    "             (13,14,15,16),\n",
    "             (17,18,19,20))\n",
    "\n",
    "matriz4x5 = tuple(zip(*matriz5x4))\n",
    "\n",
    "\n",
    "\n",
    "\n",
    "print(matriz4x5) #note que la respuesta es un tuple nuevamente"
   ]
  },
  {
   "cell_type": "markdown",
   "metadata": {},
   "source": [
    "Respuesta esperada:\n",
    "\n",
    "((1, 5, 9, 13, 17), (2, 6, 10, 14, 18), (3, 7, 11, 15, 19), (4, 8, 12, 16, 20))"
   ]
  },
  {
   "cell_type": "markdown",
   "metadata": {},
   "source": [
    "Utilice la función enumerate para adjuntar al final de cada uno de las listas cada palabra\n",
    "\n",
    "Por ejemplo: \n",
    "- a = ['H. Montana', 'E. Hurley']\n",
    "- b = [40, 60]\n",
    "- Resultado: 'H. Montana 40' y así sucesivamente"
   ]
  },
  {
   "cell_type": "code",
   "execution_count": 22,
   "metadata": {
    "tags": []
   },
   "outputs": [
    {
     "name": "stdout",
     "output_type": "stream",
     "text": [
      "Bella Swan 0,\n",
      "Edward Cullen 1,\n",
      "Jacob Black 2,\n",
      "Charlie Swan 3,\n",
      "Carlisle Cullen 4,\n",
      "Esme Cullen 5,\n",
      "Alice Cullen 6,\n"
     ]
    }
   ],
   "source": [
    "twilight = ['Bella Swan', 'Edward Cullen', 'Jacob Black', 'Charlie Swan',\n",
    "            'Carlisle Cullen', 'Esme Cullen', 'Alice Cullen']\n",
    "\n",
    "for A, nombres in enumerate(twilight):\n",
    "    print(f'{nombres} {A},')\n",
    "\n"
   ]
  },
  {
   "cell_type": "markdown",
   "metadata": {},
   "source": [
    "Resultado esperado:\n",
    "\n",
    "('Bella Swan 0', 'Edward Cullen 1', 'Jacob Black 2', 'Charlie Swan 3', 'Carlisle Cullen 4', 'Esme Cullen 5', 'Alice Cullen 6')"
   ]
  },
  {
   "cell_type": "markdown",
   "metadata": {},
   "source": [
    "### Listas de Comprensión\n",
    "\n",
    "En python se pueden crear listas rápidas y precisas por medio e listas de comprensión.  Lo que creamos anterioremnte con for loop, por ejemplo, el codigo inferior..."
   ]
  },
  {
   "cell_type": "code",
   "execution_count": 167,
   "metadata": {},
   "outputs": [
    {
     "name": "stdout",
     "output_type": "stream",
     "text": [
      "['PANAMA', 'COLON', 'DARIEN', 'VERAGUAS', 'CHIRIQUI', 'HERRERA', 'LOS SANTOS']\n"
     ]
    }
   ],
   "source": [
    "algunas_provincias = ['PanAma', 'ColOn', 'DArien', 'VerAguas', 'ChIriqui', 'HErrera', 'LOs SAntOs']\n",
    "en_mayusculas = []\n",
    "for provincia in algunas_provincias:\n",
    "    en_mayusculas.append(provincia.upper())\n",
    "\n",
    "print(en_mayusculas)"
   ]
  },
  {
   "cell_type": "markdown",
   "metadata": {},
   "source": [
    "... lo podemos hacer de una forma más sencilla y rápida utilizando listas de comprensión.  Veamos el ejemplo"
   ]
  },
  {
   "cell_type": "code",
   "execution_count": 164,
   "metadata": {},
   "outputs": [
    {
     "name": "stdout",
     "output_type": "stream",
     "text": [
      "['PANAMA', 'COLON', 'DARIEN', 'VERAGUAS', 'CHIRIQUI', 'HERRERA', 'LOS SANTOS']\n"
     ]
    }
   ],
   "source": [
    "en_mayusculas = [provincia.upper() for provincia in algunas_provincias]\n",
    "print(en_mayusculas)"
   ]
  },
  {
   "cell_type": "markdown",
   "metadata": {},
   "source": [
    "Note que de los dos ejemplos, en el último no necesitamos crear el arreglo y solo pasar a la variable el resultado.  Veamos más del siguiente ejemplo, creando una lista de valores al cubo"
   ]
  },
  {
   "cell_type": "code",
   "execution_count": 168,
   "metadata": {},
   "outputs": [
    {
     "name": "stdout",
     "output_type": "stream",
     "text": [
      "[0, 1, 8, 27, 64, 125, 216, 343, 512, 729]\n",
      "[0, 1, 8, 27, 64, 125, 216, 343, 512, 729]\n"
     ]
    }
   ],
   "source": [
    "# con for loop\n",
    "x = []\n",
    "for i in range(10):\n",
    "    x.append(i**3)\n",
    "print(x)\n",
    "    \n",
    "# con listas de comprensión\n",
    "x = [i**3 for i in range(10)]\n",
    "print(x)"
   ]
  },
  {
   "cell_type": "markdown",
   "metadata": {},
   "source": [
    "Tambien podemos añadir sentencias if a una lista de comprensión."
   ]
  },
  {
   "cell_type": "code",
   "execution_count": 169,
   "metadata": {},
   "outputs": [
    {
     "name": "stdout",
     "output_type": "stream",
     "text": [
      "[0, 8, 64, 216, 512]\n"
     ]
    }
   ],
   "source": [
    "# solo listar de los numeros que son pares su valor al cubo\n",
    "x = [i**3 for i in range(10) if i%2 == 0]\n",
    "print(x)"
   ]
  },
  {
   "cell_type": "markdown",
   "metadata": {},
   "source": [
    "Si queremos hacer sentencias con if/else entonces tenemos que mover la lista de comprensión al inicio"
   ]
  },
  {
   "cell_type": "code",
   "execution_count": 171,
   "metadata": {},
   "outputs": [
    {
     "name": "stdout",
     "output_type": "stream",
     "text": [
      "[0, 1, 8, 3, 64, 5, 216, 7, 512, 9]\n"
     ]
    }
   ],
   "source": [
    "x = [i**3 if i%2 == 0 else i for i in range(10)]\n",
    "print(x)"
   ]
  },
  {
   "cell_type": "markdown",
   "metadata": {},
   "source": [
    "#### Ahora ud.\n",
    "\n",
    "De la siguiente lista de conquistadores solamente extraiga el primer nombre."
   ]
  },
  {
   "cell_type": "code",
   "execution_count": 243,
   "metadata": {
    "tags": []
   },
   "outputs": [
    {
     "name": "stdout",
     "output_type": "stream",
     "text": [
      "'Vasco', 'Luis', 'Juan', 'Pedro', 'Gutierre', 'Juan'\n"
     ]
    }
   ],
   "source": [
    "conquistadores = ['Vasco Núnez de Balboa', 'Luis de Moscoso Alvarado', 'Juan de Cárdenas',\n",
    "                  'Pedro de Heredia', 'Gutierre de Miranda', 'Juan de Salcedo']\n",
    "CQ=[name.split()[0] for name in conquistadores]\n",
    "c2=str(c)[1:-1]\n",
    "print(c2)\n",
    "\n"
   ]
  },
  {
   "cell_type": "markdown",
   "metadata": {},
   "source": [
    "Respuesta esperada:\n",
    "\n",
    "['Vasco', 'Luis', 'Juan', 'Pedro', 'Gutierre', 'Juan']"
   ]
  },
  {
   "cell_type": "markdown",
   "metadata": {},
   "source": [
    "Calcule los números primos hasta el número 10 con la [fórmula de Fermat](https://es.wikipedia.org/wiki/N%C3%BAmero_de_Fermat) usando listas de comprensión."
   ]
  },
  {
   "cell_type": "code",
   "execution_count": 249,
   "metadata": {
    "tags": []
   },
   "outputs": [
    {
     "name": "stdout",
     "output_type": "stream",
     "text": [
      "[3, 5, 17, 257, 65537, 4294967297, 18446744073709551617, 340282366920938463463374607431768211457, 115792089237316195423570985008687907853269984665640564039457584007913129639937, 13407807929942597099574024998205846127479365820592393377723561443721764030073546976801874298166903427690031858186486050853753882811946569946433649006084097]\n"
     ]
    }
   ],
   "source": [
    "prime=[2**2**n + 1 for n in range(0,10)]\n",
    "print(prime)"
   ]
  },
  {
   "cell_type": "markdown",
   "metadata": {},
   "source": [
    "Resultado esperado:\n",
    "\n",
    "[3, 5, 17, 257, 65537, 4294967297, 18446744073709551617, 340282366920938463463374607431768211457, 115792089237316195423570985008687907853269984665640564039457584007913129639937, 13407807929942597099574024998205846127479365820592393377723561443721764030073546976801874298166903427690031858186486050853753882811946569946433649006084097]"
   ]
  },
  {
   "cell_type": "markdown",
   "metadata": {},
   "source": [
    "Con listas de comprensión intente hacer un filtro de los siguientes bateadores entre los años 1980 hasta el 2015."
   ]
  },
  {
   "cell_type": "code",
   "execution_count": 308,
   "metadata": {
    "tags": []
   },
   "outputs": [
    {
     "name": "stdout",
     "output_type": "stream",
     "text": [
      "'Jerry Coleman', 'Joe Garagiola, Sr.', 'Curt Gowdy', 'Russ Hodges'\n"
     ]
    }
   ],
   "source": [
    "major_league_players = {'Mel Allen':1978, 'Red Barber':1978, 'Jerry Coleman':2005,\n",
    "          'Joe Garagiola, Sr.':1991, 'Curt Gowdy':1984, 'Ken Harrelson':2020,\n",
    "          'Al Helfer':2019, 'Russ Hodges':1980}\n",
    "newplays={ key:value for (key,value) in major_league_players.items() if 1980<= value<=2015 }\n",
    "impresion=str(list(newplays.keys()))[1:-1]\n",
    "print(impresion)"
   ]
  },
  {
   "cell_type": "markdown",
   "metadata": {},
   "source": [
    "Respuesta esperada:\n",
    "    \n",
    "['Jerry Coleman', 'Joe Garagiola, Sr.', 'Curt Gowdy', 'Russ Hodges']"
   ]
  }
 ],
 "metadata": {
  "kernelspec": {
   "display_name": "Python 3",
   "language": "python",
   "name": "python3"
  },
  "language_info": {
   "codemirror_mode": {
    "name": "ipython",
    "version": 3
   },
   "file_extension": ".py",
   "mimetype": "text/x-python",
   "name": "python",
   "nbconvert_exporter": "python",
   "pygments_lexer": "ipython3",
   "version": "3.8.5"
  }
 },
 "nbformat": 4,
 "nbformat_minor": 4
}
